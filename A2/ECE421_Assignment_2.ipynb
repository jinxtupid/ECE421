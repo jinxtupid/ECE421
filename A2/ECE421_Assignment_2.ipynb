{
  "nbformat": 4,
  "nbformat_minor": 0,
  "metadata": {
    "colab": {
      "name": "ECE421 Assignment 2.ipynb",
      "provenance": [],
      "authorship_tag": "ABX9TyOk6Ha90luF7taaVKxEq+vq",
      "include_colab_link": true
    },
    "kernelspec": {
      "name": "python3",
      "display_name": "Python 3"
    },
    "language_info": {
      "name": "python"
    }
  },
  "cells": [
    {
      "cell_type": "markdown",
      "metadata": {
        "id": "view-in-github",
        "colab_type": "text"
      },
      "source": [
        "<a href=\"https://colab.research.google.com/github/jinxtupid/ECE421/blob/main/ECE421_Assignment_2.ipynb\" target=\"_parent\"><img src=\"https://colab.research.google.com/assets/colab-badge.svg\" alt=\"Open In Colab\"/></a>"
      ]
    },
    {
      "cell_type": "code",
      "execution_count": null,
      "metadata": {
        "colab": {
          "base_uri": "https://localhost:8080/"
        },
        "id": "BrGzqojaLO1m",
        "outputId": "1045eceb-ba1e-4451-9e7c-a09781006eca"
      },
      "outputs": [
        {
          "output_type": "stream",
          "name": "stdout",
          "text": [
            "Mounted at /content/gdrive\n"
          ]
        }
      ],
      "source": [
        "import tensorflow as tf\n",
        "import numpy as np\n",
        "import matplotlib.pyplot as plt\n",
        "import time\n",
        "import os\n",
        "os.environ['TF_CPP_MIN_LOG_LEVEL'] = '3'\n",
        "\n",
        "from google.colab import drive\n",
        "drive.mount('/content/gdrive', force_remount=True)\n",
        "# Load the data\n",
        "def load_data():\n",
        "    with np.load(\"/content/gdrive/My Drive/4-2/ECE421/notMNIST.npz\") as data:\n",
        "        data, targets = data[\"images\"], data[\"labels\"]\n",
        "        \n",
        "        np.random.seed(521)\n",
        "        rand_idx = np.arange(len(data))\n",
        "        np.random.shuffle(rand_idx)\n",
        "        \n",
        "        data = data[rand_idx] / 255.0\n",
        "        targets = targets[rand_idx].astype(int)\n",
        "        \n",
        "        train_data, train_target = data[:10000], targets[:10000]\n",
        "        valid_data, valid_target = data[10000:16000], targets[10000:16000]\n",
        "        test_data, test_target = data[16000:], targets[16000:]\n",
        "    return train_data, valid_data, test_data, train_target, valid_target, test_target\n",
        "\n",
        "\n",
        "def convert_onehot(train_target, valid_target, test_target):\n",
        "    new_train = np.zeros((train_target.shape[0], 10))\n",
        "    new_valid = np.zeros((valid_target.shape[0], 10))\n",
        "    new_test = np.zeros((test_target.shape[0], 10))\n",
        "\n",
        "    for item in range(0, train_target.shape[0]):\n",
        "        new_train[item][train_target[item]] = 1\n",
        "    for item in range(0, valid_target.shape[0]):\n",
        "        new_valid[item][valid_target[item]] = 1\n",
        "    for item in range(0, test_target.shape[0]):\n",
        "        new_test[item][test_target[item]] = 1\n",
        "    return new_train, new_valid, new_test\n",
        "\n",
        "    \n",
        "def shuffle(data, target):\n",
        "    np.random.seed(421)\n",
        "    rand_idx = np.random.permutation(len(data))\n",
        "    return data[rand_idx], target[rand_idx]\n"
      ]
    },
    {
      "cell_type": "code",
      "source": [
        "def relu(x):\n",
        "    return np.maximum(x,0)\n",
        "\n",
        "def softmax(x):\n",
        "    x = x - (np.max(x, axis=1)).reshape(x.shape[0],1)\n",
        "\n",
        "    return np.exp(x) / (np.sum(np.exp(x), axis=1)).reshape(x.shape[0],1)\n",
        "\n",
        "def compute_layer(x, w, b):\n",
        "    return np.matmul(x,w) + b\n",
        "\n",
        "def average_ce(target, prediction):\n",
        "    N = target.shape[0]\n",
        "    return -np.sum(target*np.log(prediction)) / N\n",
        "\n",
        "def grad_ce(target, prediction):\n",
        "    return prediction - target"
      ],
      "metadata": {
        "id": "sFHZHZVJ2JZb"
      },
      "execution_count": null,
      "outputs": []
    },
    {
      "cell_type": "code",
      "source": [
        "def output_weight(target, prediction, hidden_out):\n",
        "    softmax_ce = grad_ce(target, prediction)\n",
        "    hidden_out_transpose = np.transpose(hidden_out)\n",
        "    return  np.matmul(hidden_out_transpose, softmax_ce)\n",
        "\n",
        "def output_bias(target, prediction):\n",
        "    softmax_ce = grad_ce(target, prediction)\n",
        "    ones = np.ones((1, target.shape[0]))\n",
        "    return np.matmul(ones, softmax_ce)\n",
        "\n",
        "def hidden_weight(target, prediction, input, input_out, out_weight):\n",
        "    input_out[input_out > 0] = 1\n",
        "    input_out[input_out < 0] = 0\n",
        "\n",
        "    softmax_ce = grad_ce(target, prediction)\n",
        "    return  np.matmul(np.transpose(input), (input_out * np.matmul(softmax_ce, np.transpose(out_weight))))\n",
        "\n",
        "def hidden_bias(target, prediction, input_out, out_weight):\n",
        "    input_out[input_out > 0] = 1\n",
        "    input_out[input_out < 0] = 0\n",
        "\n",
        "    ones = np.ones((1, input_out.shape[0]))\n",
        "    softmax_ce = grad_ce(target, prediction)\n",
        "    return  np.matmul(ones, (input_out * np.matmul(softmax_ce, np.transpose(out_weight))))\n",
        "\n",
        "def forward(data,wh,wo,bh,bo):\n",
        "    h = compute_layer(data,wh,bh)\n",
        "    g = relu(h)\n",
        "    o = compute_layer(g,wo,bo)\n",
        "    return softmax(o)\n",
        "\n",
        "def learning(trainData, trainTarget, validData, validTarget, testData, testTarget, w_o, v_o, w_h, v_h, b_o, b_h, epochs, gamma, learning_rate):\n",
        "    w_v_o = v_o\n",
        "    b_v_o = b_o\n",
        "    w_v_h = v_h\n",
        "    b_v_h = b_h\n",
        "\n",
        "    train_loss, valid_loss, test_loss, train_acc, valid_acc, test_acc  = [], [], [], [], [], []\n",
        "    for i in range(epochs):\n",
        "\n",
        "        # print(\"Iteration:\", i)      \n",
        "        hidden_input_train = compute_layer(trainData, w_h, b_h)\n",
        "        hidden_output_train = relu(hidden_input_train)\n",
        "        prediction = softmax(compute_layer(hidden_output_train, w_o , b_o))\n",
        "        train_loss.append(average_ce(trainTarget,prediction))\n",
        "        train_acc.append(np.sum(prediction.argmax(axis = 1) == trainTarget.argmax(axis = 1))/trainData.shape[0])\n",
        "\n",
        "\n",
        "        hidden_input_valid = compute_layer(validData, w_h, b_h)\n",
        "        hidden_output_valid = relu(hidden_input_valid)\n",
        "        prediction_valid = softmax(compute_layer(hidden_output_valid, w_o, b_o))\n",
        "        valid_loss.append(average_ce(validTarget, prediction_valid))\n",
        "        valid_acc.append(np.sum(prediction_valid.argmax(axis = 1) == validTarget.argmax(axis = 1))/validData.shape[0])\n",
        "\n",
        "        \n",
        "        hidden_input_test = compute_layer(testData, w_h, b_h)\n",
        "        hidden_output_test = relu(hidden_input_test)\n",
        "        prediction_test = softmax(compute_layer(hidden_output_test, w_o, b_o))\n",
        "        test_loss.append(average_ce(testTarget, prediction_test))\n",
        "        test_acc.append((np.sum(prediction_test.argmax(axis = 1) == testTarget.argmax(axis = 1)))/(testData.shape[0]))\n",
        "\n",
        "        # updating parameters\n",
        "        w_v_o = gamma * w_v_o + learning_rate * output_weight(trainTarget, prediction, hidden_output_train)\n",
        "        b_v_o = gamma * b_v_o + learning_rate * output_bias(trainTarget, prediction)\n",
        "        w_v_h = gamma * w_v_h + learning_rate * hidden_weight(trainTarget, prediction, trainData, hidden_input_train, w_o)       \n",
        "        b_v_h = gamma * b_v_h + learning_rate * hidden_bias(trainTarget, prediction, hidden_input_train, w_o)\n",
        "\n",
        "        w_o = w_o - w_v_o\n",
        "        b_o = b_o - b_v_o\n",
        "        w_h = w_h - w_v_h\n",
        "        b_h = b_h - b_v_h\n",
        "\n",
        "    return w_o, b_o, w_h, b_h, train_acc, valid_acc, test_acc, train_loss, valid_loss, test_loss\n",
        "\n",
        "def Xavier(unitsin, unitsout):\n",
        "  return np.random.normal(0, np.sqrt(2/(unitsin + unitsout)), (unitsin,unitsout))"
      ],
      "metadata": {
        "id": "ZtP7P3UGCqJC"
      },
      "execution_count": null,
      "outputs": []
    },
    {
      "cell_type": "code",
      "source": [
        "import time\n",
        "trainData, validData, testData, trainTarget, validTarget, testTarget = load_data()\n",
        "trainData = trainData.reshape((trainData.shape[0], -1))\n",
        "validData = validData.reshape((validData.shape[0], -1))\n",
        "testData = testData.reshape((testData.shape[0], -1))\n",
        "\n",
        "train_target, valid_target, test_target = convert_onehot(trainTarget, validTarget, testTarget)\n",
        "\n",
        "H = 1000\n",
        "epochs = 200\n",
        "gamma = 0.99\n",
        "learning_rate = 0.00001\n",
        "\n",
        "w_o = Xavier(H,10)\n",
        "w_h = Xavier(784,H)\n",
        "v_o = np.full((H, 10), 1e-5)\n",
        "v_h = np.full((trainData.shape[1],H), 1e-5)\n",
        "b_o = np.zeros((1, 10))\n",
        "b_h = np.zeros((1, H))\n",
        "\n",
        "start = time.time()\n",
        "\n",
        "weight_o, bias_o, weight_h, bias_h, train_acc, valid_acc, test_acc, \\\n",
        "train_loss, valid_loss, test_loss = learning(trainData, train_target, \\\n",
        "validData, valid_target, testData, test_target, w_o, v_o, w_h, v_h, b_o, \\\n",
        "b_h, epochs, gamma, learning_rate)\n",
        "\n",
        "end = time.time()\n",
        "\n",
        "\n",
        "# plotting\n",
        "iterations = range(len(train_acc))\n",
        "plt.figure()\n",
        "plt.plot(iterations, train_acc)\n",
        "plt.plot(iterations, valid_acc)\n",
        "plt.plot(iterations, test_acc)\n",
        "plt.legend(['train accuracy', 'valid accuracy', 'test accuracy'])\n",
        "plt.xlabel('Epochs')\n",
        "plt.ylabel('Accuracy')\n",
        "plt.title(\"Accuracies\")\n",
        "\n",
        "\n",
        "plt.figure()\n",
        "plt.plot(iterations, train_loss)\n",
        "plt.plot(iterations, valid_loss)\n",
        "plt.plot(iterations, test_loss)\n",
        "plt.legend(['train loss', 'valid loss', 'test loss'])\n",
        "plt.xlabel('Epochs')\n",
        "plt.ylabel('Loss')\n",
        "plt.title(\"Losses\")      \n",
        "\n",
        "# print(test_acc[-1])\n",
        "# print(valid_acc[-1])\n",
        "# print(train_acc[-1])\n",
        "\n",
        "# print(test_loss[-1])\n",
        "# print(valid_loss[-1])\n",
        "# print(train_loss[-1])\n",
        "\n",
        "# print(end-start)"
      ],
      "metadata": {
        "colab": {
          "base_uri": "https://localhost:8080/",
          "height": 694
        },
        "id": "gZQZYv6Md_F9",
        "outputId": "6a47ce47-cfc3-4f78-8e08-e2299426008f"
      },
      "execution_count": null,
      "outputs": [
        {
          "output_type": "stream",
          "name": "stdout",
          "text": [
            "0.9093245227606461\n",
            "0.9121666666666667\n",
            "0.9985\n",
            "0.7718570778316731\n",
            "0.724208224482581\n",
            "0.006936827205918513\n",
            "399.71449398994446\n"
          ]
        },
        {
          "output_type": "display_data",
          "data": {
            "image/png": "[encoded data removed]",
            "text/plain": [
              "<Figure size 432x288 with 1 Axes>"
            ]
          },
          "metadata": {
            "needs_background": "light"
          }
        },
        {
          "output_type": "display_data",
          "data": {
            "image/png": "[encoded data removed]",
            "text/plain": [
              "<Figure size 432x288 with 1 Axes>"
            ]
          },
          "metadata": {
            "needs_background": "light"
          }
        }
      ]
    }
  ]
}
